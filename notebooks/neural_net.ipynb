{
 "cells": [
  {
   "cell_type": "markdown",
   "metadata": {},
   "source": [
    "# Neural Network \n",
    "## Activity Classification"
   ]
  },
  {
   "cell_type": "code",
   "execution_count": null,
   "metadata": {},
   "outputs": [],
   "source": [
    "from tensorflow import keras\n",
    "import polars as pl\n",
    "\n",
    "from sklearn.preprocessing import LabelEncoder\n"
   ]
  },
  {
   "cell_type": "code",
   "execution_count": null,
   "metadata": {},
   "outputs": [],
   "source": [
    "# load dataset\n",
    "\n",
    "from lisa.config import PROCESSED_DATA_DIR\n",
    "from lisa.features import sequential_stratified_split, standard_scaler\n",
    "\n",
    "\n",
    "df = pl.scan_parquet(PROCESSED_DATA_DIR / \"P1.parquet\")\n",
    "\n",
    "X_train, X_val, y_train, y_val = sequential_stratified_split(\n",
    "    df, 0.8, 800, [\"ACTIVITY\"]\n",
    ")\n",
    "\n",
    "label_encoder = LabelEncoder()\n",
    "\n",
    "X_train, X_val, scaler = standard_scaler(X_train, X_val)\n",
    "\n",
    "X_train = X_train.to_numpy()\n",
    "X_val = X_val.to_numpy()\n",
    "\n",
    "y_train = y_train.collect().to_numpy()\n",
    "y_val = y_val.collect().to_numpy()\n",
    "\n",
    "y_train = label_encoder.fit_transform(y_train)\n",
    "y_val = label_encoder.transform(y_val)"
   ]
  },
  {
   "cell_type": "code",
   "execution_count": null,
   "metadata": {},
   "outputs": [],
   "source": [
    "# Define the model\n",
    "def create_classifier(neurons1, neurons2, dropout):\n",
    "    model = keras.models.Sequential([\n",
    "        keras.layers.Dense(neurons1, activation='relu', input_shape=(X_train.shape[1],)),\n",
    "        keras.layers.Dropout(dropout),\n",
    "        keras.layers.Dense(neurons2, activation='relu'),\n",
    "        keras.layers.Dropout(dropout),\n",
    "        keras.layers.Dense(3, activation='softmax')  # 3 classes for classification\n",
    "    ])\n",
    "    model.compile(optimizer='adam', loss='sparse_categorical_crossentropy', metrics=['accuracy'])\n",
    "    return model\n",
    "\n",
    "def build_classifier(hp):\n",
    "    neurons1 = hp.Int(\"units1\", min_value=32, max_value=512, step=32)\n",
    "    neurons2 = hp.Int(\"units2\", min_value=32, max_value=512, step=32)\n",
    "    dropout = hp.Float(\"dropout\", min_value=0.1, max_value=0.5, step=0.1)\n",
    "\n",
    "    model = create_classifier(\n",
    "        neurons1=neurons1, neurons2=neurons2, dropout=dropout\n",
    "    )\n",
    "    return model"
   ]
  },
  {
   "cell_type": "code",
   "execution_count": null,
   "metadata": {},
   "outputs": [],
   "source": [
    "import keras_tuner as kt\n",
    "\n",
    "tuner = kt.BayesianOptimization(\n",
    "    build_classifier,\n",
    "    objective='val_loss',\n",
    "    max_trials=10,\n",
    "    overwrite=True)"
   ]
  },
  {
   "cell_type": "code",
   "execution_count": null,
   "metadata": {},
   "outputs": [],
   "source": [
    "tuner.search(X_train, y_train, epochs=10, validation_data=(X_val, y_val), batch_size=32)"
   ]
  },
  {
   "cell_type": "code",
   "execution_count": null,
   "metadata": {},
   "outputs": [],
   "source": [
    "\n",
    "\n",
    "best_model = tuner.get_best_models()[0]\n",
    "best_hps=tuner.get_best_hyperparameters(num_trials=1)[0]\n",
    "\n",
    "\n",
    "print(best_hps.get('units1'))\n",
    "print(best_hps.get('units2'))\n",
    "print(best_hps.get('dropout'))\n",
    "\n",
    "best_model.summary()\n",
    "\n"
   ]
  },
  {
   "cell_type": "code",
   "execution_count": null,
   "metadata": {},
   "outputs": [],
   "source": [
    "# Compile the model\n",
    "# model.compile(optimizer='adam', loss='sparse_categorical_crossentropy', metrics=['accuracy'])\n",
    "\n",
    "# # Train the model\n",
    "# history = model.fit(X_train, y_train, epochs=5, batch_size=32, validation_data=(X_val, y_val))"
   ]
  },
  {
   "cell_type": "code",
   "execution_count": null,
   "metadata": {},
   "outputs": [],
   "source": [
    "# import pandas as pd\n",
    "# import matplotlib.pyplot as plt\n",
    "# pd.DataFrame(history.history).plot(figsize=(8, 5))\n",
    "# plt.grid(True)\n",
    "# plt.gca().set_ylim(0, 1) # set the vertical range to [0-1]\n",
    "# plt.show()"
   ]
  },
  {
   "cell_type": "code",
   "execution_count": null,
   "metadata": {},
   "outputs": [],
   "source": [
    "\n",
    "test_data_path = PROCESSED_DATA_DIR / 'p15&16.parquet'\n",
    "\n",
    "test_df = pl.read_parquet(test_data_path)\n",
    "\n",
    "y_test = test_df.select('ACTIVITY')\n",
    "X_test = test_df.select(pl.exclude([\"ACTIVITY\", \"TRIAL\", \"TIME\", \"INCLINE\", \"SPEED\"]))\n",
    "\n",
    "X_test = X_test.to_numpy()\n",
    "y_test = y_test.to_numpy()\n",
    "\n",
    "y_test = label_encoder.transform(y_test)\n",
    "loss, accuracy = best_model.evaluate(X_test, y_test)\n",
    "\n",
    "print(f'val Accuracy: {accuracy:.4f}')"
   ]
  },
  {
   "cell_type": "markdown",
   "metadata": {},
   "source": [
    "## Speed Regression"
   ]
  },
  {
   "cell_type": "code",
   "execution_count": null,
   "metadata": {},
   "outputs": [],
   "source": [
    "# Define the regression model\n",
    "regression_model = keras.models.Sequential([\n",
    "    keras.layers.Dense(64, activation='relu', input_shape=(X_train.shape[1],)),\n",
    "    keras.layers.Dropout(0.5),\n",
    "    keras.layers.Dense(32, activation='relu'),\n",
    "    keras.layers.Dropout(0.5),\n",
    "    keras.layers.Dense(1, activation='linear')  # Single output for regression\n",
    "])\n",
    "\n",
    "# Compile the model\n",
    "regression_model.compile(\n",
    "    optimizer='adam',\n",
    "    loss='mse',  # Mean Squared Error for regression\n",
    "    metrics=['mae']  # Mean Absolute Error as an evaluation metric\n",
    ")\n",
    "\n",
    "# Summary of the model\n",
    "regression_model.summary()"
   ]
  },
  {
   "cell_type": "code",
   "execution_count": null,
   "metadata": {},
   "outputs": [],
   "source": [
    "X_train, X_val, y_train, y_val = sequential_stratified_split(\n",
    "    df, 0.8, 800, [\"SPEED\"]\n",
    ")\n",
    "\n",
    "label_encoder = LabelEncoder()\n",
    "\n",
    "X_train, X_val, scaler = standard_scaler(X_train, X_val)\n",
    "\n",
    "X_train = X_train.to_numpy()\n",
    "X_val = X_val.to_numpy()\n",
    "\n",
    "y_train = y_train.collect().to_numpy()\n",
    "y_val = y_val.collect().to_numpy()\n",
    "\n",
    "y_train = label_encoder.fit_transform(y_train)\n",
    "y_val = label_encoder.transform(y_val)"
   ]
  },
  {
   "cell_type": "code",
   "execution_count": null,
   "metadata": {},
   "outputs": [],
   "source": [
    "# Train the regression model\n",
    "history = regression_model.fit(\n",
    "    X_train, y_train,  # X_train: features, y_train: continuous target values\n",
    "    epochs=5,\n",
    "    batch_size=32,\n",
    "    validation_split=0.2\n",
    ")\n",
    "\n",
    "# Evaluate the model\n",
    "loss, mae = regression_model.evaluate(X_val, y_val)\n",
    "print(f\"Test MAE: {mae:.4f}\")"
   ]
  }
 ],
 "metadata": {
  "kernelspec": {
   "display_name": "Python 3",
   "language": "python",
   "name": "python3"
  },
  "language_info": {
   "codemirror_mode": {
    "name": "ipython",
    "version": 3
   },
   "file_extension": ".py",
   "mimetype": "text/x-python",
   "name": "python",
   "nbconvert_exporter": "python",
   "pygments_lexer": "ipython3",
   "version": "3.10.16"
  }
 },
 "nbformat": 4,
 "nbformat_minor": 2
}
